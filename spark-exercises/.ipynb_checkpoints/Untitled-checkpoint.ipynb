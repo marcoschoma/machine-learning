{
 "cells": [
  {
   "cell_type": "code",
   "execution_count": 1,
   "metadata": {},
   "outputs": [
    {
     "name": "stdout",
     "output_type": "stream",
     "text": [
      "DataFrame[title: string, body: string, FROM_UNIXTIME: string]\n"
     ]
    }
   ],
   "source": [
    "from pyspark.context import SparkContext\n",
    "from pyspark.sql.session import SparkSession\n",
    "sc = SparkContext('local')\n",
    "spark = SparkSession(sc)\n",
    "\n",
    "from pyspark.ml.clustering import LDA\n",
    "from pyspark.ml.feature import Tokenizer\n",
    "from pyspark.ml.feature import CountVectorizer\n",
    "from pyspark.sql.types import StructField, StringType, StructType\n",
    "from pyspark.ml.feature import StopWordsRemover\n",
    "\n",
    "labels = [\"title\",\"body\",\"FROM_UNIXTIME\"]\n",
    "\n",
    "fields = [StructField(field_name, StringType(), True) for field_name in labels]\n",
    "schema = StructType(fields)\n",
    "\n",
    "# Loads data.\n",
    "data_df = spark.read.csv(\"/home/marcos/code/data/noticias_small.csv\", schema=schema)\n",
    "#.map(lambda row: row.split(\"\\r\\n\"))\n",
    "print(data_df)\n",
    "\n",
    "tokenizer = Tokenizer(inputCol=\"body\", outputCol=\"words\")\n",
    "wordsDataFrame = tokenizer.transform(data_df)\n",
    "\n",
    "stopWords = StopWordsRemover.loadDefaultStopWords(\"portuguese\")\n",
    "remover = StopWordsRemover(inputCol=\"words\", outputCol=\"words_filtered\", stopWords = stopWords)\n",
    "wordsFiltered = remover.transform(wordsDataFrame)\n",
    "\n",
    "cv_tmp = CountVectorizer(inputCol=\"words_filtered\", outputCol=\"tmp_vectors\")\n",
    "cv_tmp_model = cv_tmp.fit(wordsFiltered)\n",
    "df_vect = cv_tmp_model.transform(wordsFiltered)\n",
    "\n",
    "def parseVectors(line):\n",
    "    return [int(line[2]), line[1]]\n",
    "\n",
    "sparsevector = df_vect.select(\"FROM_UNIXTIME\", \"tmp_vectors\")\n",
    "\n",
    "lda = LDA(k=10, maxIter=5, featuresCol=\"tmp_vectors\")\n",
    "ldaModel = lda.fit(sparsevector)\n",
    "topics = ldaModel.topicsMatrix()\n",
    "# model = LDA.train(sparsevector, k=5, seed=1)\n",
    "\n",
    "# Describe topics.\n",
    "topics = ldaModel.describeTopics(3)"
   ]
  },
  {
   "cell_type": "code",
   "execution_count": 2,
   "metadata": {},
   "outputs": [
    {
     "data": {
      "text/plain": [
       "PythonRDD[34] at RDD at PythonRDD.scala:52"
      ]
     },
     "execution_count": 2,
     "metadata": {},
     "output_type": "execute_result"
    }
   ],
   "source": [
    "topics\\\n",
    "    .select(\"termIndices\", \"termWeights\")\\\n",
    "    .rdd\\\n",
    "    .map(lambda t: print('oi'))"
   ]
  }
 ],
 "metadata": {
  "kernelspec": {
   "display_name": "Python 3",
   "language": "python",
   "name": "python3"
  },
  "language_info": {
   "codemirror_mode": {
    "name": "ipython",
    "version": 3
   },
   "file_extension": ".py",
   "mimetype": "text/x-python",
   "name": "python",
   "nbconvert_exporter": "python",
   "pygments_lexer": "ipython3",
   "version": "3.6.6"
  }
 },
 "nbformat": 4,
 "nbformat_minor": 2
}
